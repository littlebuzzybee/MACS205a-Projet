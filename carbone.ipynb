{
 "cells": [
  {
   "cell_type": "markdown",
   "id": "f04e924b-30f9-42ee-9dc1-0405f9558763",
   "metadata": {},
   "source": [
    "**MACS205a - Équations différentielles**\n",
    "\n",
    "*Membres du groupe: ABUBAKER Rita, BERRONDO Alice, LY Timothée, PERSONNAZ Louis, TOURTOIS Eliott*"
   ]
  },
  {
   "cell_type": "markdown",
   "id": "4f8c08e5-0973-40b2-ad66-c7397a873d36",
   "metadata": {},
   "source": [
    "# Imports"
   ]
  },
  {
   "cell_type": "code",
   "execution_count": 2,
   "id": "f9c27fb1-13ce-4e8a-984d-ac0f39bb9b30",
   "metadata": {},
   "outputs": [],
   "source": [
    "import numpy as np\n",
    "import matplotlib.pyplot as plt\n",
    "from scipy.integrate import odeint"
   ]
  },
  {
   "cell_type": "markdown",
   "id": "2a447958-f207-41df-a1af-9125118d88b7",
   "metadata": {},
   "source": [
    "# Code"
   ]
  },
  {
   "cell_type": "code",
   "execution_count": 6,
   "id": "9051b28f-c26a-4a29-9b2e-666ac1c81e5a",
   "metadata": {},
   "outputs": [],
   "source": [
    "# Initial conditions\n",
    "Atmosphere_Initial          = 750\n",
    "CarbonateRock_Initial       = 100000000\n",
    "DeepOcean_Initial           = 38000\n",
    "FossilFuel_Initial          = 7500\n",
    "Plant_Initial               = 560\n",
    "Soil_Initial                = 1500\n",
    "SurfaceOcean_Initial        = 890\n",
    "VegLandArea_percent_Initial = 100\n",
    "\n",
    "# Constants\n",
    "Alk = 2.222446077610055\n",
    "Kao = .278\n",
    "SurfOcVol = .0362\n",
    "Deforestation = 0\n",
    "\n",
    "# Fossil fuels\n",
    "FossFuelData = np.array([[50.0, 0.00],\n",
    "                         [75.0, 0.30],\n",
    "                         [100.0, 0.60],\n",
    "                         [125.0, 1.35],\n",
    "                         [150.0, 2.85],\n",
    "                         [175.0, 4.95],\n",
    "                         [200.0, 7.20],\n",
    "                         [225.0, 10.05],\n",
    "                         [250.0, 14.85],\n",
    "                         [275.0, 20.70],\n",
    "                         [300.0, 30.00]])"
   ]
  },
  {
   "cell_type": "code",
   "execution_count": 5,
   "id": "3066bfd4-bdf7-483e-b39c-0202153d4ea0",
   "metadata": {},
   "outputs": [],
   "source": [
    "# Helper functions\n",
    "def AtmCO2(Atmosphere):\n",
    "    return Atmosphere * (280/Atmosphere_Initial)\n",
    "def GlobalTemp(AtmCO2):\n",
    "    return 15 + ((AtmCO2-280) * .01)\n",
    "def CO2Effect(AtmCO2):\n",
    "    return 1.5 * ((AtmCO2) - 40) / ((AtmCO2) + 80)\n",
    "def WaterTemp(GlobalTemp):\n",
    "    return 273+GlobalTemp\n",
    "def TempEffect(GlobalTemp):\n",
    "    return ((60 - GlobalTemp) * (GlobalTemp + 15)) / (((60 + 15) / 2) ** (2))/.96\n",
    "def SurfCConc(SurfaceOcean):\n",
    "    return (SurfaceOcean/12000)/SurfOcVol\n",
    "def Kcarb(WaterTemp):\n",
    "    return .000575+(.000006*(WaterTemp-278))\n",
    "def KCO2(WaterTemp):\n",
    "    return .035+(.0019*(WaterTemp-278))\n",
    "def HCO3(Kcarb, SurfCConc):\n",
    "    return(SurfCConc-(np.sqrt(SurfCConc**2-Alk*(2*SurfCConc-Alk)*(1-4*Kcarb))))/(1-4*Kcarb)\n",
    "def CO3(HCO3):\n",
    "    return (Alk-HCO3)/2\n",
    "def pCO2Oc(KCO2, HCO3, CO3):\n",
    "    return 280*KCO2*(HCO3**2/CO3)"
   ]
  },
  {
   "cell_type": "code",
   "execution_count": 7,
   "id": "b3c4ddf0-0313-4dbd-a02f-b1636b6f8943",
   "metadata": {},
   "outputs": [],
   "source": [
    "def FossilFuelsCombustion(t):\n",
    "    i = 0\n",
    "    if t >= FossFuelData[-1,0]:\n",
    "        return FossFuelData[-1,1]\n",
    "    while i + 1 < len(FossFuelData) and t >= FossFuelData[i,0]:\n",
    "        i = i + 1\n",
    "    if i == 0:\n",
    "        return FossFuelData[0,1]\n",
    "    else:\n",
    "        return FossFuelData[i-1,1] + (t - FossFuelData[i-1,0]) / (FossFuelData[i,0] - FossFuelData[i-1,0]) * (FossFuelData[i,1] - FossFuelData[i-1,1])"
   ]
  },
  {
   "cell_type": "code",
   "execution_count": 8,
   "id": "c90e6a1f-d8ae-4ca3-8699-f7a33441da69",
   "metadata": {},
   "outputs": [],
   "source": [
    "def derivative(x, t):\n",
    "    Atmosphere          = x[0]\n",
    "    CarbonateRock       = x[1]\n",
    "    DeepOcean           = x[2]\n",
    "    FossilFuelCarbon    = x[3]\n",
    "    Plants              = x[4]\n",
    "    Soils               = x[5]\n",
    "    SurfaceOcean        = x[6]\n",
    "    VegLandArea_percent = x[7]\n",
    "\n",
    "    PlantResp = (Plants * (55/Plant_Initial)) + Deforestation/2\n",
    "    Litterfall = (Plants* (55/Plant_Initial)) + (Deforestation/2)\n",
    "    SoilResp = Soils * (55/Soil_Initial)\n",
    "    Volcanoes = 0.1\n",
    "    AtmCO2_ = AtmCO2(Atmosphere)\n",
    "    GlobalTemp_ = GlobalTemp(AtmCO2_)\n",
    "    WaterTemp_ = WaterTemp(GlobalTemp_)\n",
    "    Photosynthesis = 110 * CO2Effect(AtmCO2_) * (VegLandArea_percent/100) * TempEffect(GlobalTemp_)\n",
    "    HCO3_ = HCO3(Kcarb(WaterTemp_), SurfCConc(SurfaceOcean))\n",
    "    pCO2Oc_ = pCO2Oc(KCO2(WaterTemp_), HCO3_, CO3(HCO3_))\n",
    "    AtmOcExchange = Kao*(AtmCO2_-pCO2Oc_)\n",
    "    if x[3] > 0:\n",
    "        FossilFuelsCombustion_ = FossilFuelsCombustion(t)\n",
    "    else:\n",
    "        FossilFuelsCombustion_ = 0\n",
    "    dAtmosphere_dt = (PlantResp\n",
    "                    + SoilResp\n",
    "                    + Volcanoes\n",
    "                    + FossilFuelsCombustion_\n",
    "                    - Photosynthesis\n",
    "                    - AtmOcExchange)\n",
    "\n",
    "    Sedimentation = DeepOcean * (0.1/DeepOcean_Initial)\n",
    "    dCarbonateRock_dt = Sedimentation - Volcanoes\n",
    "\n",
    "    Downwelling = SurfaceOcean*(90.1/SurfaceOcean_Initial)\n",
    "    Upwelling = DeepOcean * (90/DeepOcean_Initial)\n",
    "    dDeepOcean_dt = Downwelling - Sedimentation - Upwelling\n",
    "\n",
    "    dFossilFuelCarbon_dt = - FossilFuelsCombustion_\n",
    "\n",
    "    dPlants_dt = Photosynthesis - PlantResp - Litterfall\n",
    "\n",
    "    dSoils_dt = Litterfall - SoilResp\n",
    "\n",
    "    dSurfaceOcean_dt = Upwelling + AtmOcExchange - Downwelling\n",
    "\n",
    "    Development = (Deforestation/Plant_Initial * 0.2) * 100\n",
    "    dVegLandArea_percent_dt = - Development\n",
    "\n",
    "    derivative = np.array([\n",
    "        dAtmosphere_dt,\n",
    "        dCarbonateRock_dt,\n",
    "        dDeepOcean_dt,\n",
    "        dFossilFuelCarbon_dt,\n",
    "        dPlants_dt,\n",
    "        dSoils_dt,\n",
    "        dSurfaceOcean_dt,\n",
    "        dVegLandArea_percent_dt\n",
    "    ])\n",
    "\n",
    "    return derivative"
   ]
  },
  {
   "cell_type": "code",
   "execution_count": 9,
   "id": "a4de4a6a-737d-43d6-b37d-8f1f71c0e053",
   "metadata": {},
   "outputs": [],
   "source": [
    "x0 = np.array([Atmosphere_Initial,\n",
    "               CarbonateRock_Initial,\n",
    "               DeepOcean_Initial,\n",
    "               FossilFuel_Initial,\n",
    "               Plant_Initial,\n",
    "               Soil_Initial,\n",
    "               SurfaceOcean_Initial,\n",
    "               VegLandArea_percent_Initial])"
   ]
  },
  {
   "cell_type": "code",
   "execution_count": 20,
   "id": "87746076-ce01-4c16-b9f2-5ffb01e1c20f",
   "metadata": {},
   "outputs": [],
   "source": [
    "time = np.arange(0, 750, 1)\n",
    "res = odeint(derivative, x0, time, full_output=1)"
   ]
  },
  {
   "cell_type": "code",
   "execution_count": 24,
   "id": "6da24824-de42-4d9c-bf98-200456da9008",
   "metadata": {},
   "outputs": [
    {
     "data": {
      "text/plain": [
       "(750, 8)"
      ]
     },
     "execution_count": 24,
     "metadata": {},
     "output_type": "execute_result"
    }
   ],
   "source": [
    "res[0].shape"
   ]
  },
  {
   "cell_type": "code",
   "execution_count": 27,
   "id": "57387d65-a777-442d-85a1-0f5663a442a0",
   "metadata": {},
   "outputs": [
    {
     "data": {
      "image/png": "[encoded data removed]",
      "text/plain": [
       "<Figure size 432x288 with 1 Axes>"
      ]
     },
     "metadata": {
      "needs_background": "light"
     },
     "output_type": "display_data"
    }
   ],
   "source": [
    "fig = plt.figure()\n",
    "for param in range(res[0].shape[1]):\n",
    "    if param == 7:\n",
    "        plt.plot(time, res[0][:,param])\n",
    "plt.show()"
   ]
  },
  {
   "cell_type": "code",
   "execution_count": null,
   "id": "10ea00cd-9f47-418a-812b-c3fadd98c4fd",
   "metadata": {},
   "outputs": [],
   "source": []
  }
 ],
 "metadata": {
  "kernelspec": {
   "display_name": "Python 3 (ipykernel)",
   "language": "python",
   "name": "python3"
  },
  "language_info": {
   "codemirror_mode": {
    "name": "ipython",
    "version": 3
   },
   "file_extension": ".py",
   "mimetype": "text/x-python",
   "name": "python",
   "nbconvert_exporter": "python",
   "pygments_lexer": "ipython3",
   "version": "3.8.12"
  }
 },
 "nbformat": 4,
 "nbformat_minor": 5
}
