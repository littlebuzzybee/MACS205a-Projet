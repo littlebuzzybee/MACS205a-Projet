{
 "cells": [
  {
   "cell_type": "markdown",
   "id": "5933b82a",
   "metadata": {},
   "source": [
    "**MACS205a - Differential equations**\n",
    "\n",
    "*Group members:*\n",
    "- *ABUBAKER Rita*\n",
    "- *BERRONDO Alice*\n",
    "- *LY Timothée*\n",
    "- *PERSONNAZ Louis*\n",
    "- *TOURTOIS Eliott*\n",
    "- *WINTER Alexis*"
   ]
  },
  {
   "cell_type": "markdown",
   "id": "86e36408",
   "metadata": {},
   "source": [
    "# Imports"
   ]
  },
  {
   "cell_type": "code",
   "execution_count": 29,
   "id": "758d6f04",
   "metadata": {},
   "outputs": [],
   "source": [
    "import numpy as np\n",
    "import matplotlib.pyplot as plt\n",
    "from scipy.integrate import odeint, solve_ivp"
   ]
  },
  {
   "cell_type": "markdown",
   "id": "4c5d3c8b",
   "metadata": {},
   "source": [
    "# Code"
   ]
  },
  {
   "cell_type": "code",
   "execution_count": 30,
   "id": "0e9d8868",
   "metadata": {},
   "outputs": [],
   "source": [
    "# Initial conditions\n",
    "Atmosphere_Initial          = 750\n",
    "CarbonateRock_Initial       = 100000000\n",
    "DeepOcean_Initial           = 38000\n",
    "FossilFuel_Initial          = 7500\n",
    "Plant_Initial               = 560\n",
    "Soil_Initial                = 1500\n",
    "SurfaceOcean_Initial        = 890\n",
    "VegLandArea_percent_Initial = 100\n",
    "\n",
    "# Constants\n",
    "Alk = 2.222446077610055\n",
    "Kao = .278\n",
    "SurfOcVol = .0362\n",
    "Deforestation = 0\n",
    "\n",
    "# Fossil fuel\n",
    "FossFuelData = np.array([[50.0, 0.00],\n",
    "                         [75.0, 0.30],\n",
    "                         [100.0, 0.60],\n",
    "                         [125.0, 1.35],\n",
    "                         [150.0, 2.85],\n",
    "                         [175.0, 4.95],\n",
    "                         [200.0, 7.20],\n",
    "                         [225.0, 10.05],\n",
    "                         [250.0, 14.85],\n",
    "                         [275.0, 20.70],\n",
    "                         [300.0, 30.00]])"
   ]
  },
  {
   "cell_type": "code",
   "execution_count": 31,
   "id": "f21e2f52",
   "metadata": {
    "tags": []
   },
   "outputs": [],
   "source": [
    "# Helper functions\n",
    "def AtmCO2(Atmosphere):\n",
    "    return Atmosphere * (280/Atmosphere_Initial)\n",
    "def GlobalTemp(AtmCO2):\n",
    "    return 15 + ((AtmCO2-280) * .01)\n",
    "def CO2Effect(AtmCO2):\n",
    "    return 1.5 * ((AtmCO2) - 40) / ((AtmCO2) + 80)\n",
    "def WaterTemp(GlobalTemp):\n",
    "    return 273+GlobalTemp\n",
    "def TempEffect(GlobalTemp):\n",
    "    return ((60 - GlobalTemp) * (GlobalTemp + 15)) / (((60 + 15) / 2) ** (2))/.96\n",
    "def SurfCConc(SurfaceOcean):\n",
    "    return (SurfaceOcean/12000)/SurfOcVol\n",
    "def Kcarb(WaterTemp):\n",
    "    return .000575+(.000006*(WaterTemp-278))\n",
    "def KCO2(WaterTemp):\n",
    "    return .035+(.0019*(WaterTemp-278))\n",
    "def HCO3(Kcarb, SurfCConc):\n",
    "    return(SurfCConc-(np.sqrt(SurfCConc**2-Alk*(2*SurfCConc-Alk)*(1-4*Kcarb))))/(1-4*Kcarb)\n",
    "def CO3(HCO3):\n",
    "    return (Alk-HCO3)/2\n",
    "def pCO2Oc(KCO2, HCO3, CO3):\n",
    "    return 280*KCO2*(HCO3**2/CO3)\n",
    "\n",
    "def FossilFuelsCombustion(t):\n",
    "    i = 0\n",
    "    if t >= FossFuelData[-1,0]:\n",
    "        return FossFuelData[-1,1]\n",
    "    while i + 1 < len(FossFuelData) and t >= FossFuelData[i,0]:\n",
    "        i = i + 1\n",
    "    if i == 0:\n",
    "        return FossFuelData[0,1]\n",
    "    else:\n",
    "        return (FossFuelData[i-1,1]\n",
    "             + (t - FossFuelData[i-1,0]) / (FossFuelData[i,0] - FossFuelData[i-1,0]) * (FossFuelData[i,1] - FossFuelData[i-1,1]))\n",
    "\n",
    "def derivative(x, t):\n",
    "    Atmosphere          = x[0]\n",
    "    CarbonateRock       = x[1]\n",
    "    DeepOcean           = x[2]\n",
    "    FossilFuelCarbon    = x[3]\n",
    "    Plants              = x[4]\n",
    "    Soils               = x[5]\n",
    "    SurfaceOcean        = x[6]\n",
    "    VegLandArea_percent = x[7]\n",
    "\n",
    "    PlantResp = (Plants * (55/Plant_Initial)) + Deforestation/2\n",
    "    Litterfall = (Plants* (55/Plant_Initial)) + (Deforestation/2)\n",
    "    SoilResp = Soils * (55/Soil_Initial)\n",
    "    Volcanoes = 0.1\n",
    "    AtmCO2_ = AtmCO2(Atmosphere)\n",
    "    GlobalTemp_ = GlobalTemp(AtmCO2_)\n",
    "    WaterTemp_ = WaterTemp(GlobalTemp_)\n",
    "    Photosynthesis = 110 * CO2Effect(AtmCO2_) * (VegLandArea_percent/100) * TempEffect(GlobalTemp_)\n",
    "    HCO3_ = HCO3(Kcarb(WaterTemp_), SurfCConc(SurfaceOcean))\n",
    "    pCO2Oc_ = pCO2Oc(KCO2(WaterTemp_), HCO3_, CO3(HCO3_))\n",
    "    AtmOcExchange = Kao*(AtmCO2_-pCO2Oc_)\n",
    "    if x[3] > 0:\n",
    "        FossilFuelsCombustion_ = FossilFuelsCombustion(t)\n",
    "    else:\n",
    "        FossilFuelsCombustion_ = 0\n",
    "    dAtmosphere_dt = (PlantResp\n",
    "                    + SoilResp\n",
    "                    + Volcanoes\n",
    "                    + FossilFuelsCombustion_\n",
    "                    - Photosynthesis\n",
    "                    - AtmOcExchange)\n",
    "\n",
    "    Sedimentation = DeepOcean * (0.1/DeepOcean_Initial)\n",
    "    dCarbonateRock_dt = Sedimentation - Volcanoes\n",
    "\n",
    "    Downwelling = SurfaceOcean*(90.1/SurfaceOcean_Initial)\n",
    "    Upwelling = DeepOcean * (90/DeepOcean_Initial)\n",
    "    dDeepOcean_dt = Downwelling - Sedimentation - Upwelling\n",
    "\n",
    "    dFossilFuelCarbon_dt = - FossilFuelsCombustion_\n",
    "\n",
    "    dPlants_dt = Photosynthesis - PlantResp - Litterfall\n",
    "\n",
    "    dSoils_dt = Litterfall - SoilResp\n",
    "\n",
    "    dSurfaceOcean_dt = Upwelling + AtmOcExchange - Downwelling\n",
    "\n",
    "    Development = (Deforestation/Plant_Initial * 0.2) * 100\n",
    "    dVegLandArea_percent_dt = - Development\n",
    "\n",
    "    derivative = np.array([\n",
    "        dAtmosphere_dt,\n",
    "        dCarbonateRock_dt,\n",
    "        dDeepOcean_dt,\n",
    "        dFossilFuelCarbon_dt,\n",
    "        dPlants_dt,\n",
    "        dSoils_dt,\n",
    "        dSurfaceOcean_dt,\n",
    "        dVegLandArea_percent_dt\n",
    "    ])\n",
    "\n",
    "    return derivative"
   ]
  },
  {
   "cell_type": "code",
   "execution_count": 112,
   "id": "5c999980",
   "metadata": {},
   "outputs": [],
   "source": [
    "class Model():\n",
    "    \"\"\"Represents a model for the carbon cycle\"\"\"\n",
    "    \n",
    "    def __init__(self, initial_conditions):\n",
    "        self.initial_conditions = initial_conditions\n",
    "        self.attr = {0: \"Atmosphere\",\n",
    "                     1: \"CarbonateRock\",\n",
    "                     2: \"DeepOcean\",\n",
    "                     3: \"FossilFuel\",\n",
    "                     4: \"Plant\",\n",
    "                     5: \"Soil\",\n",
    "                     6: \"SurfaceOcean\",\n",
    "                     7: \"VegLandArea_percent\"}\n",
    "        self.params  = self.attr.values()\n",
    "        self.message = None\n",
    "        self.success = None\n",
    "        self.t       = None\n",
    "        self.y       = None\n",
    "        \n",
    "    def predict(self, method_, startYear, endYear, *args, **kwargs):\n",
    "        if method_ == \"solve_ivp\":\n",
    "            t_span = (startYear, endYear)\n",
    "            derivative_ = lambda t, y: derivative(y, t) # invert the order of the arguments for solve_ivp\n",
    "            res = solve_ivp(fun=derivative_, t_span=t_span, y0=self.initial_conditions, *args, **kwargs)\n",
    "            self.message, self.success, self.t, self.y = res.message, res.success, res.t, res.y\n",
    "        if method_ == \"RK4\":\n",
    "            self.message, self.success = None, None\n",
    "            self.t = np.linspace(startYear, endYear, num=kwargs[\"num\"])\n",
    "            self.y = rungeKutta4(derivative, self.initial_conditions, self.t).T\n",
    "            \n",
    "    def plot_evolution(self, params, figsize=(12, 6)):\n",
    "        fig = plt.figure(figsize=figsize)\n",
    "        for idx in range(self.y.shape[0]):\n",
    "            if self.attr[idx] in params:\n",
    "                plt.plot(self.t, self.y[idx], label=self.attr[idx])\n",
    "                plt.xlabel(\"Time (years)\")\n",
    "        plt.legend()\n",
    "        plt.show()"
   ]
  },
  {
   "cell_type": "code",
   "execution_count": 113,
   "id": "c4d8bc8f",
   "metadata": {},
   "outputs": [],
   "source": [
    "initial_conditions = np.array([Atmosphere_Initial,\n",
    "                               CarbonateRock_Initial,\n",
    "                               DeepOcean_Initial,\n",
    "                               FossilFuel_Initial,\n",
    "                               Plant_Initial,\n",
    "                               Soil_Initial,\n",
    "                               SurfaceOcean_Initial,\n",
    "                               VegLandArea_percent_Initial])\n",
    "model = Model(initial_conditions)"
   ]
  },
  {
   "cell_type": "code",
   "execution_count": 117,
   "id": "774215b6",
   "metadata": {},
   "outputs": [],
   "source": [
    "def rungeKutta4(f, y0, t):\n",
    "    \"\"\"\n",
    "    params:\n",
    "    f: 2-params derivative function\n",
    "    y0: initial condition\n",
    "    t: array of years\n",
    "    \"\"\"\n",
    "    n = len(t) \n",
    "    y = np.zeros((n, len(y0)))\n",
    "    y[0] = y0\n",
    "    for i in range(n-1):\n",
    "        h = t[i+1] - t[i]\n",
    "        \n",
    "        p1 = f(y[i], t[i])\n",
    "        t2 = t[i] + 1/2 * h\n",
    "        y2 = y[i] + 1/2 * h * p1\n",
    "        \n",
    "        p2 = f(y2, t2)\n",
    "        t3 = t2\n",
    "        y3 = y[i] + 1/2 * h * p2\n",
    "        \n",
    "        p3 = f(y3, t3)\n",
    "        t4 = t[i] + h \n",
    "        y4 = y[i] + h * p3\n",
    "        \n",
    "        p4 = f(y4, t4)\n",
    "        \n",
    "        y[i+1] = y[i] + h * (p1/6 + 2*p2/6 + 2*p3/6 + p4/6)\n",
    "    \n",
    "    return y"
   ]
  },
  {
   "cell_type": "code",
   "execution_count": 118,
   "id": "770f944c",
   "metadata": {},
   "outputs": [
    {
     "data": {
      "image/png": "[encoded data removed]",
      "text/plain": [
       "<Figure size 864x432 with 1 Axes>"
      ]
     },
     "metadata": {
      "needs_background": "light"
     },
     "output_type": "display_data"
    }
   ],
   "source": [
    "model.predict(\"solve_ivp\", 0, 750, method=\"RK45\")\n",
    "model.plot_evolution([\"Atmosphere\"])"
   ]
  },
  {
   "cell_type": "code",
   "execution_count": 124,
   "id": "c9daf95f",
   "metadata": {},
   "outputs": [
    {
     "data": {
      "image/png": "[encoded data removed]",
      "text/plain": [
       "<Figure size 864x432 with 1 Axes>"
      ]
     },
     "metadata": {
      "needs_background": "light"
     },
     "output_type": "display_data"
    }
   ],
   "source": [
    "model.predict(\"RK4\", 0, 750, num=5000)\n",
    "model.plot_evolution([\"Atmosphere\"])"
   ]
  },
  {
   "cell_type": "code",
   "execution_count": null,
   "id": "e4ea4598-be94-4646-b49d-e87c954e3f2b",
   "metadata": {},
   "outputs": [],
   "source": []
  },
  {
   "cell_type": "code",
   "execution_count": null,
   "id": "058dbfee-6109-41f6-b6b1-2f7259384b8c",
   "metadata": {},
   "outputs": [],
   "source": []
  }
 ],
 "metadata": {
  "kernelspec": {
   "display_name": "Python 3 (ipykernel)",
   "language": "python",
   "name": "python3"
  },
  "language_info": {
   "codemirror_mode": {
    "name": "ipython",
    "version": 3
   },
   "file_extension": ".py",
   "mimetype": "text/x-python",
   "name": "python",
   "nbconvert_exporter": "python",
   "pygments_lexer": "ipython3",
   "version": "3.8.13"
  }
 },
 "nbformat": 4,
 "nbformat_minor": 5
}
